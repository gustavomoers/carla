{
 "cells": [
  {
   "cell_type": "code",
   "execution_count": 1,
   "metadata": {},
   "outputs": [
    {
     "name": "stderr",
     "output_type": "stream",
     "text": [
      "'CarlaUE4.exe' n�o � reconhecido como um comando interno\n",
      "ou externo, um programa oper�vel ou um arquivo em lotes.\n"
     ]
    }
   ],
   "source": [
    "#runnning the simulator, run on cmd on carla folder\n",
    "\n",
    "#CarlaUE4.exe -windowed -carla-server -benchmark -fps=10"
   ]
  },
  {
   "cell_type": "code",
   "execution_count": 1,
   "metadata": {},
   "outputs": [],
   "source": [
    "import carla\n",
    "import random\n",
    "import time\n",
    "#connect to carla\n",
    "client = carla.Client('localhost', 2000)\n",
    "client.set_timeout(20)\n",
    "# get World, load a new map.\n",
    "world = client.get_world()\n",
    "#world = client.load_world('Town05_Opt', carla.MapLayer.Buildings | carla.MapLayer.ParkedVehicles)"
   ]
  },
  {
   "cell_type": "code",
   "execution_count": 9,
   "metadata": {},
   "outputs": [],
   "source": [
    "# unload buildings\n",
    "# world.unload_map_layer(carla.MapLayer.Buildings)"
   ]
  },
  {
   "cell_type": "code",
   "execution_count": null,
   "metadata": {},
   "outputs": [],
   "source": [
    "## NO-rendering option.\n",
    "\n",
    "# settings = world.get_settings()\n",
    "# settings.no_rendering_mode = True\n",
    "# world.apply_settings(settings)\n",
    "# ...\n",
    "# settings.no_rendering_mode = False\n",
    "# world.apply_settings(settings)\n",
    "\n",
    "\n",
    "# No-rendering mode: Unreal Engine does not render anything. Graphics are not computed. GPU based sensors return empty data.\n",
    "# Off-screen mode: Unreal Engine is working as usual, rendering is computed but there is no display available. GPU based sensors return data.\n",
    "\n",
    "\n",
    "#./CarlaUE4.sh -RenderOffScreen"
   ]
  },
  {
   "cell_type": "code",
   "execution_count": 7,
   "metadata": {},
   "outputs": [],
   "source": [
    "# Retrieve the spectator object\n",
    "spectator = world.get_spectator()\n",
    "\n",
    "# Get the location and rotation of the spectator through its transform\n",
    "transform = spectator.get_transform()\n",
    "\n",
    "location = transform.location\n",
    "rotation = transform.rotation\n",
    "\n",
    "# Set the spectator with an empty transform\n",
    "spectator.set_transform(carla.Transform())\n",
    "# This will set the spectator at the origin of the map, with 0 degrees\n",
    "# pitch, yaw and roll - a good way to orient yourself in the map\n"
   ]
  },
  {
   "cell_type": "code",
   "execution_count": null,
   "metadata": {},
   "outputs": [],
   "source": []
  },
  {
   "cell_type": "code",
   "execution_count": 24,
   "metadata": {},
   "outputs": [
    {
     "name": "stdout",
     "output_type": "stream",
     "text": [
      "(x,y,z) = (-131.56546020507812,-47.225643157958984,2.6048898696899414)\n"
     ]
    }
   ],
   "source": [
    "## get spectator location.\n",
    "\n",
    "t = world.get_spectator().get_transform()\n",
    "# coordinate_str = \"(x,y) = ({},{})\".format(t.location.x, t.location.y)\n",
    "coordinate_str = \"(x,y,z) = ({},{},{})\".format(t.location.x, t.location.y,t.location.z)\n",
    "print (coordinate_str)"
   ]
  },
  {
   "cell_type": "code",
   "execution_count": 27,
   "metadata": {},
   "outputs": [],
   "source": [
    "# Get the map's spawn points\n",
    "spawn_points = world.get_map().get_spawn_points()"
   ]
  },
  {
   "cell_type": "code",
   "execution_count": 28,
   "metadata": {},
   "outputs": [
    {
     "name": "stdout",
     "output_type": "stream",
     "text": [
      "Transform(Location(x=-44.188328, y=-39.610611, z=0.450000), Rotation(pitch=0.000000, yaw=-90.337494, roll=0.000000))\n",
      "Transform(Location(x=-54.711468, y=-41.650139, z=0.450000), Rotation(pitch=0.000000, yaw=89.662514, roll=0.000000))\n",
      "Transform(Location(x=-51.199158, y=-39.570789, z=0.450000), Rotation(pitch=0.000000, yaw=89.662514, roll=0.000000))\n",
      "Transform(Location(x=-177.549835, y=2.981492, z=0.300000), Rotation(pitch=0.000000, yaw=-0.139465, roll=0.000000))\n",
      "Transform(Location(x=-175.941330, y=6.477585, z=0.300000), Rotation(pitch=0.000000, yaw=-0.139465, roll=0.000000))\n",
      "Transform(Location(x=-203.448898, y=-3.955487, z=0.300000), Rotation(pitch=0.000000, yaw=179.860489, roll=0.000000))\n",
      "Transform(Location(x=-201.940384, y=-0.459150, z=0.300000), Rotation(pitch=0.000000, yaw=179.860489, roll=0.000000))\n",
      "Transform(Location(x=-191.567139, y=14.351324, z=0.600000), Rotation(pitch=0.000000, yaw=89.984192, roll=0.000000))\n",
      "Transform(Location(x=-184.574814, y=-13.591502, z=0.600000), Rotation(pitch=0.000000, yaw=-90.015808, roll=0.000000))\n",
      "Transform(Location(x=-195.066757, y=15.851251, z=0.600000), Rotation(pitch=0.000000, yaw=89.984192, roll=0.000000))\n",
      "Transform(Location(x=-164.732162, y=-95.141876, z=0.300000), Rotation(pitch=0.000000, yaw=-179.913696, roll=0.000000))\n",
      "Transform(Location(x=-188.074295, y=-11.590188, z=0.600000), Rotation(pitch=0.000000, yaw=-90.015808, roll=0.000000))\n",
      "Transform(Location(x=-112.302406, y=2.822677, z=0.300000), Rotation(pitch=0.000000, yaw=-0.139465, roll=0.000000))\n",
      "Transform(Location(x=-110.893890, y=6.319256, z=0.300000), Rotation(pitch=0.000000, yaw=-0.139465, roll=0.000000))\n",
      "Transform(Location(x=-141.882370, y=-4.105343, z=0.300000), Rotation(pitch=0.000000, yaw=179.860489, roll=0.000000))\n",
      "Transform(Location(x=-140.373856, y=-0.609006, z=0.300000), Rotation(pitch=0.000000, yaw=179.860489, roll=0.000000))\n",
      "Transform(Location(x=-128.108505, y=13.788225, z=0.300000), Rotation(pitch=0.000000, yaw=89.174805, roll=0.000000))\n",
      "Transform(Location(x=-121.555489, y=-11.948098, z=0.300000), Rotation(pitch=0.000000, yaw=-90.424431, roll=0.000000))\n",
      "Transform(Location(x=-131.585098, y=15.438466, z=0.300000), Rotation(pitch=0.000000, yaw=89.174805, roll=0.000000))\n",
      "Transform(Location(x=-125.065781, y=-13.322133, z=0.300000), Rotation(pitch=0.000000, yaw=-90.424431, roll=0.000000))\n",
      "Transform(Location(x=35.057194, y=137.335281, z=0.300000), Rotation(pitch=0.000000, yaw=-89.977112, roll=0.000000))\n",
      "Transform(Location(x=-162.537445, y=-91.638618, z=0.300000), Rotation(pitch=0.000000, yaw=-179.913696, roll=0.000000))\n",
      "Transform(Location(x=31.556599, y=138.833893, z=0.300000), Rotation(pitch=0.000000, yaw=-89.977112, roll=0.000000))\n",
      "Transform(Location(x=-124.046745, y=75.872360, z=0.300000), Rotation(pitch=0.000000, yaw=-90.511383, roll=0.000000))\n",
      "Transform(Location(x=-62.878407, y=-94.988525, z=0.300000), Rotation(pitch=0.000000, yaw=-179.913696, roll=0.000000))\n",
      "Transform(Location(x=-48.163212, y=-102.922791, z=0.450000), Rotation(pitch=0.000000, yaw=-94.314819, roll=0.000000))\n",
      "Transform(Location(x=-120.558464, y=74.541183, z=0.300000), Rotation(pitch=0.000000, yaw=-90.511383, roll=0.000000))\n",
      "Transform(Location(x=-36.398438, y=-87.948662, z=0.300000), Rotation(pitch=0.000000, yaw=0.086306, roll=0.000000))\n",
      "Transform(Location(x=-44.755901, y=-104.283005, z=0.450000), Rotation(pitch=0.000000, yaw=-94.314819, roll=0.000000))\n",
      "Transform(Location(x=40.172600, y=144.898178, z=0.300000), Rotation(pitch=0.000000, yaw=2.228426, roll=0.000000))\n",
      "Transform(Location(x=-54.910080, y=-77.223679, z=0.450000), Rotation(pitch=0.000000, yaw=89.662514, roll=0.000000))\n",
      "Transform(Location(x=-51.404831, y=-76.344299, z=0.450000), Rotation(pitch=0.000000, yaw=89.662514, roll=0.000000))\n",
      "Transform(Location(x=210.739395, y=-11.272166, z=0.300000), Rotation(pitch=0.000000, yaw=-90.669060, roll=0.000000))\n",
      "Transform(Location(x=-127.286636, y=105.030807, z=0.300000), Rotation(pitch=0.000000, yaw=89.488602, roll=0.000000))\n",
      "Transform(Location(x=-64.684090, y=-91.491158, z=0.300000), Rotation(pitch=0.000000, yaw=-179.913696, roll=0.000000))\n",
      "Transform(Location(x=-37.703709, y=-84.450592, z=0.300000), Rotation(pitch=0.000000, yaw=0.086306, roll=0.000000))\n",
      "Transform(Location(x=22.263048, y=187.676407, z=0.300000), Rotation(pitch=0.000000, yaw=-179.719513, roll=0.000000))\n",
      "Transform(Location(x=-95.240860, y=-88.037468, z=0.300000), Rotation(pitch=0.000000, yaw=0.086306, roll=0.000000))\n",
      "Transform(Location(x=22.226889, y=194.676300, z=0.300000), Rotation(pitch=0.000000, yaw=-179.712158, roll=0.000000))\n",
      "Transform(Location(x=20.744501, y=191.168762, z=0.300000), Rotation(pitch=0.000000, yaw=-179.712158, roll=0.000000))\n",
      "Transform(Location(x=-127.747406, y=53.414654, z=0.300000), Rotation(pitch=0.000000, yaw=89.488602, roll=0.000000))\n",
      "Transform(Location(x=-96.746132, y=-84.539719, z=0.300000), Rotation(pitch=0.000000, yaw=0.086306, roll=0.000000))\n",
      "Transform(Location(x=35.056522, y=163.656631, z=0.300000), Rotation(pitch=0.000000, yaw=-89.977112, roll=0.000000))\n",
      "Transform(Location(x=207.270935, y=-13.931108, z=0.300000), Rotation(pitch=0.000000, yaw=-90.669060, roll=0.000000))\n",
      "Transform(Location(x=31.557194, y=161.955246, z=0.300000), Rotation(pitch=0.000000, yaw=-89.977112, roll=0.000000))\n",
      "Transform(Location(x=-127.151070, y=120.221970, z=0.300000), Rotation(pitch=0.000000, yaw=89.488602, roll=0.000000))\n",
      "Transform(Location(x=37.337761, y=201.752304, z=0.300000), Rotation(pitch=0.000000, yaw=0.289841, roll=0.000000))\n",
      "Transform(Location(x=-47.807079, y=-59.759644, z=0.450000), Rotation(pitch=0.000000, yaw=-90.337494, roll=0.000000))\n",
      "Transform(Location(x=-109.686501, y=94.941193, z=0.300000), Rotation(pitch=0.000000, yaw=0.065570, roll=0.000000))\n",
      "Transform(Location(x=-108.282501, y=91.442787, z=0.300000), Rotation(pitch=0.000000, yaw=0.065570, roll=0.000000))\n",
      "Transform(Location(x=19.206675, y=-91.364868, z=0.300000), Rotation(pitch=0.000000, yaw=-179.913696, roll=0.000000))\n",
      "Transform(Location(x=25.953178, y=-75.568909, z=0.300000), Rotation(pitch=0.000000, yaw=91.532082, roll=0.000000))\n",
      "Transform(Location(x=18.011946, y=-94.866638, z=0.300000), Rotation(pitch=0.000000, yaw=-179.913696, roll=0.000000))\n",
      "Transform(Location(x=-44.300064, y=-58.580273, z=0.450000), Rotation(pitch=0.000000, yaw=-90.337494, roll=0.000000))\n",
      "Transform(Location(x=203.739853, y=-11.190423, z=0.300000), Rotation(pitch=0.000000, yaw=-90.669060, roll=0.000000))\n",
      "Transform(Location(x=44.775852, y=-84.127823, z=0.500000), Rotation(pitch=0.000000, yaw=-1.444275, roll=0.000000))\n",
      "Transform(Location(x=43.388065, y=-87.593956, z=0.300000), Rotation(pitch=0.000000, yaw=-1.444275, roll=0.000000))\n",
      "Transform(Location(x=29.486671, y=-76.774536, z=0.300000), Rotation(pitch=0.000000, yaw=91.532082, roll=0.000000))\n",
      "Transform(Location(x=-54.806961, y=-59.719818, z=0.450000), Rotation(pitch=0.000000, yaw=89.662514, roll=0.000000))\n",
      "Transform(Location(x=16.355600, y=-0.990493, z=0.300000), Rotation(pitch=0.000000, yaw=179.860489, roll=0.000000))\n",
      "Transform(Location(x=24.597328, y=14.145382, z=0.300000), Rotation(pitch=0.000000, yaw=89.488258, roll=0.000000))\n",
      "Transform(Location(x=31.399366, y=-12.338720, z=0.300000), Rotation(pitch=0.000000, yaw=-89.800926, roll=0.000000))\n",
      "Transform(Location(x=17.847080, y=-4.494134, z=0.300000), Rotation(pitch=0.000000, yaw=179.860489, roll=0.000000))\n",
      "Transform(Location(x=41.056664, y=1.742678, z=0.300000), Rotation(pitch=0.000000, yaw=0.250285, roll=0.000000))\n",
      "Transform(Location(x=41.941372, y=5.246575, z=0.300000), Rotation(pitch=0.000000, yaw=0.250285, roll=0.000000))\n",
      "Transform(Location(x=197.040344, y=13.699100, z=0.300000), Rotation(pitch=0.000000, yaw=90.664635, roll=0.000000))\n",
      "Transform(Location(x=28.082001, y=12.414189, z=0.300000), Rotation(pitch=0.000000, yaw=89.488258, roll=0.000000))\n",
      "Transform(Location(x=34.907337, y=-14.626545, z=0.300000), Rotation(pitch=0.000000, yaw=-89.800926, roll=0.000000))\n",
      "Transform(Location(x=-133.158722, y=-142.372116, z=0.600000), Rotation(pitch=0.000000, yaw=-179.557465, roll=0.000000))\n",
      "Transform(Location(x=-135.931625, y=-145.893616, z=0.600000), Rotation(pitch=0.000000, yaw=-179.557465, roll=0.000000))\n",
      "Transform(Location(x=-114.008064, y=-135.223969, z=0.600000), Rotation(pitch=0.000000, yaw=0.442562, roll=0.000000))\n",
      "Transform(Location(x=-115.980965, y=-138.739288, z=0.600000), Rotation(pitch=0.000000, yaw=0.442562, roll=0.000000))\n",
      "Transform(Location(x=-131.324463, y=-125.749733, z=0.300000), Rotation(pitch=0.000000, yaw=90.393547, roll=0.000000))\n",
      "Transform(Location(x=-127.812881, y=-127.425674, z=0.300000), Rotation(pitch=0.000000, yaw=90.393547, roll=0.000000))\n",
      "Transform(Location(x=-51.299950, y=-58.540447, z=0.450000), Rotation(pitch=0.000000, yaw=89.662514, roll=0.000000))\n",
      "Transform(Location(x=-217.588593, y=6.672848, z=0.300000), Rotation(pitch=0.000000, yaw=-0.139465, roll=0.000000))\n",
      "Transform(Location(x=193.571869, y=10.958689, z=0.300000), Rotation(pitch=0.000000, yaw=90.664635, roll=0.000000))\n",
      "Transform(Location(x=-184.579834, y=-31.771498, z=0.600000), Rotation(pitch=0.000000, yaw=-90.015808, roll=0.000000))\n",
      "Transform(Location(x=-188.079239, y=-29.370184, z=0.600000), Rotation(pitch=0.000000, yaw=-90.015808, roll=0.000000))\n",
      "Transform(Location(x=-191.579788, y=-31.798672, z=0.600000), Rotation(pitch=0.000000, yaw=89.984192, roll=0.000000))\n",
      "Transform(Location(x=-219.997101, y=3.178703, z=0.300000), Rotation(pitch=0.000000, yaw=-0.139465, roll=0.000000))\n",
      "Transform(Location(x=42.366356, y=-193.632538, z=0.300000), Rotation(pitch=0.000000, yaw=-0.242950, roll=0.000000))\n",
      "Transform(Location(x=43.581200, y=-190.137695, z=0.300000), Rotation(pitch=0.000000, yaw=-0.242950, roll=0.000000))\n",
      "Transform(Location(x=42.396034, y=-186.632599, z=0.300000), Rotation(pitch=0.000000, yaw=-0.242950, roll=0.000000))\n",
      "Transform(Location(x=26.419664, y=-207.565033, z=0.300000), Rotation(pitch=0.000000, yaw=179.757080, roll=0.000000))\n",
      "Transform(Location(x=24.934509, y=-204.058685, z=0.300000), Rotation(pitch=0.000000, yaw=179.757080, roll=0.000000))\n",
      "Transform(Location(x=26.449341, y=-200.565109, z=0.300000), Rotation(pitch=0.000000, yaw=179.757080, roll=0.000000))\n",
      "Transform(Location(x=190.040817, y=13.617901, z=0.300000), Rotation(pitch=0.000000, yaw=90.664635, roll=0.000000))\n",
      "Transform(Location(x=32.147095, y=-176.243668, z=0.300000), Rotation(pitch=0.000000, yaw=91.532082, roll=0.000000))\n",
      "Transform(Location(x=28.677757, y=-177.436966, z=0.300000), Rotation(pitch=0.000000, yaw=91.531967, roll=0.000000))\n",
      "Transform(Location(x=-36.142330, y=2.637298, z=0.300000), Rotation(pitch=0.000000, yaw=-0.139465, roll=0.000000))\n",
      "Transform(Location(x=-37.033813, y=6.139479, z=0.300000), Rotation(pitch=0.000000, yaw=-0.139465, roll=0.000000))\n",
      "Transform(Location(x=-62.871204, y=-4.297660, z=0.300000), Rotation(pitch=0.000000, yaw=179.860489, roll=0.000000))\n",
      "Transform(Location(x=-61.562683, y=-0.800837, z=0.300000), Rotation(pitch=0.000000, yaw=179.860489, roll=0.000000))\n",
      "Transform(Location(x=-44.031494, y=-11.261845, z=0.450000), Rotation(pitch=0.000000, yaw=-90.390503, roll=0.000000))\n",
      "Transform(Location(x=-50.602310, y=13.267327, z=0.600000), Rotation(pitch=0.000000, yaw=88.908035, roll=0.000000))\n",
      "Transform(Location(x=-47.541664, y=-12.738286, z=0.450000), Rotation(pitch=0.000000, yaw=-90.390503, roll=0.000000))\n",
      "Transform(Location(x=-54.080715, y=14.433826, z=0.600000), Rotation(pitch=0.000000, yaw=88.908035, roll=0.000000))\n",
      "Transform(Location(x=-114.022850, y=151.176605, z=0.500000), Rotation(pitch=0.000000, yaw=0.269699, roll=0.000000))\n",
      "Transform(Location(x=-115.239326, y=154.670929, z=0.500000), Rotation(pitch=0.000000, yaw=0.269699, roll=0.000000))\n",
      "Transform(Location(x=-136.218704, y=144.072083, z=0.500000), Rotation(pitch=0.000000, yaw=-179.730255, roll=0.000000))\n",
      "Transform(Location(x=-135.235184, y=147.576721, z=0.500000), Rotation(pitch=0.000000, yaw=-179.730255, roll=0.000000))\n",
      "Transform(Location(x=-120.004814, y=136.571930, z=0.300000), Rotation(pitch=0.000000, yaw=-90.511383, roll=0.000000))\n",
      "Transform(Location(x=-123.520714, y=134.802856, z=0.300000), Rotation(pitch=0.000000, yaw=-90.511383, roll=0.000000))\n",
      "Transform(Location(x=28.071249, y=102.152046, z=0.300000), Rotation(pitch=0.000000, yaw=90.022896, roll=0.000000))\n",
      "Transform(Location(x=43.828613, y=95.542152, z=0.300000), Rotation(pitch=0.000000, yaw=-0.416199, roll=0.000000))\n",
      "Transform(Location(x=17.807386, y=88.087051, z=0.300000), Rotation(pitch=0.000000, yaw=-179.934418, roll=0.000000))\n",
      "Transform(Location(x=24.570614, y=103.750648, z=0.300000), Rotation(pitch=0.000000, yaw=90.022896, roll=0.000000))\n",
      "Transform(Location(x=-112.205292, y=-84.562813, z=0.300000), Rotation(pitch=0.000000, yaw=0.086304, roll=0.000000))\n",
      "Transform(Location(x=35.081654, y=76.118515, z=0.300000), Rotation(pitch=0.000000, yaw=-89.977112, roll=0.000000))\n",
      "Transform(Location(x=31.582285, y=74.517128, z=0.300000), Rotation(pitch=0.000000, yaw=-89.977112, roll=0.000000))\n",
      "Transform(Location(x=16.211418, y=84.585190, z=0.300000), Rotation(pitch=0.000000, yaw=-179.934418, roll=0.000000))\n",
      "Transform(Location(x=41.803246, y=92.056778, z=0.300000), Rotation(pitch=0.000000, yaw=-0.416199, roll=0.000000))\n",
      "Transform(Location(x=35.079342, y=-154.969818, z=0.300000), Rotation(pitch=0.000000, yaw=-88.467949, roll=0.000000))\n",
      "Transform(Location(x=38.532646, y=-153.176865, z=0.300000), Rotation(pitch=0.000000, yaw=-88.467949, roll=0.000000))\n",
      "Transform(Location(x=27.719597, y=-141.612808, z=0.300000), Rotation(pitch=0.000000, yaw=91.532082, roll=0.000000))\n",
      "Transform(Location(x=31.263790, y=-143.218597, z=0.300000), Rotation(pitch=0.000000, yaw=91.532082, roll=0.000000))\n",
      "Transform(Location(x=44.273445, y=-145.964951, z=0.600000), Rotation(pitch=0.000000, yaw=-1.313385, roll=0.000000))\n",
      "Transform(Location(x=28.052208, y=149.835678, z=0.300000), Rotation(pitch=0.000000, yaw=90.022896, roll=0.000000))\n",
      "Transform(Location(x=33.726768, y=-104.398773, z=0.300000), Rotation(pitch=0.000000, yaw=-88.467949, roll=0.000000))\n",
      "Transform(Location(x=24.552719, y=148.534286, z=0.300000), Rotation(pitch=0.000000, yaw=90.022896, roll=0.000000))\n",
      "Transform(Location(x=-130.802551, y=103.262100, z=0.300000), Rotation(pitch=0.000000, yaw=89.488602, roll=0.000000))\n",
      "Transform(Location(x=-141.631790, y=87.904640, z=0.300000), Rotation(pitch=0.000000, yaw=-179.934418, roll=0.000000))\n",
      "Transform(Location(x=-143.727554, y=84.402237, z=0.300000), Rotation(pitch=0.000000, yaw=-179.934418, roll=0.000000))\n",
      "Transform(Location(x=37.302151, y=208.752197, z=0.300000), Rotation(pitch=0.000000, yaw=0.287814, roll=0.000000))\n",
      "Transform(Location(x=38.519707, y=205.258362, z=0.300000), Rotation(pitch=0.000000, yaw=0.287814, roll=0.000000))\n",
      "Transform(Location(x=31.540794, y=178.359695, z=0.300000), Rotation(pitch=0.000000, yaw=-89.977112, roll=0.000000))\n",
      "Transform(Location(x=35.040283, y=179.661087, z=0.300000), Rotation(pitch=0.000000, yaw=-89.977112, roll=0.000000))\n",
      "Transform(Location(x=28.071249, y=54.347980, z=0.300000), Rotation(pitch=0.000000, yaw=90.022896, roll=0.000000))\n",
      "Transform(Location(x=-131.231186, y=55.245819, z=0.300000), Rotation(pitch=0.000000, yaw=89.488602, roll=0.000000))\n",
      "Transform(Location(x=37.265617, y=-105.804619, z=0.300000), Rotation(pitch=0.000000, yaw=-88.467949, roll=0.000000))\n",
      "Transform(Location(x=24.570692, y=55.746586, z=0.300000), Rotation(pitch=0.000000, yaw=90.022896, roll=0.000000))\n",
      "Transform(Location(x=-17.587875, y=-4.413764, z=0.300000), Rotation(pitch=0.000000, yaw=179.860489, roll=0.000000))\n",
      "Transform(Location(x=-19.079281, y=-0.880121, z=0.300000), Rotation(pitch=0.000000, yaw=179.860489, roll=0.000000))\n",
      "Transform(Location(x=28.052719, y=121.197929, z=0.300000), Rotation(pitch=0.000000, yaw=90.022896, roll=0.000000))\n",
      "Transform(Location(x=24.552084, y=122.796539, z=0.300000), Rotation(pitch=0.000000, yaw=90.022896, roll=0.000000))\n",
      "Transform(Location(x=-10.121180, y=95.555092, z=0.300000), Rotation(pitch=0.000000, yaw=-0.416199, roll=0.000000))\n",
      "Transform(Location(x=-8.746604, y=92.056778, z=0.300000), Rotation(pitch=0.000000, yaw=-0.416199, roll=0.000000))\n",
      "Transform(Location(x=-130.666962, y=118.453247, z=0.300000), Rotation(pitch=0.000000, yaw=89.488602, roll=0.000000))\n",
      "Transform(Location(x=-195.079193, y=-29.398745, z=0.600000), Rotation(pitch=0.000000, yaw=89.984192, roll=0.000000))\n",
      "Transform(Location(x=-184.586487, y=-55.941498, z=0.600000), Rotation(pitch=0.000000, yaw=-90.015808, roll=0.000000))\n",
      "Transform(Location(x=24.707123, y=-28.980844, z=0.300000), Rotation(pitch=0.000000, yaw=91.532082, roll=0.000000))\n",
      "Transform(Location(x=-188.085876, y=-53.540184, z=0.600000), Rotation(pitch=0.000000, yaw=-90.015808, roll=0.000000))\n",
      "Transform(Location(x=-191.586426, y=-55.968670, z=0.600000), Rotation(pitch=0.000000, yaw=89.984192, roll=0.000000))\n",
      "Transform(Location(x=-195.085831, y=-53.568745, z=0.600000), Rotation(pitch=0.000000, yaw=89.984192, roll=0.000000))\n",
      "Transform(Location(x=-184.560760, y=38.028496, z=0.600000), Rotation(pitch=0.000000, yaw=-90.015808, roll=0.000000))\n",
      "Transform(Location(x=-188.061172, y=36.229809, z=0.600000), Rotation(pitch=0.000000, yaw=-90.015808, roll=0.000000))\n",
      "Transform(Location(x=-191.560699, y=38.001324, z=0.600000), Rotation(pitch=0.000000, yaw=89.984192, roll=0.000000))\n",
      "Transform(Location(x=-195.061127, y=36.201248, z=0.600000), Rotation(pitch=0.000000, yaw=89.984192, roll=0.000000))\n",
      "Transform(Location(x=-184.555496, y=57.088493, z=0.600000), Rotation(pitch=0.000000, yaw=-90.015808, roll=0.000000))\n",
      "Transform(Location(x=-188.055908, y=55.289810, z=0.600000), Rotation(pitch=0.000000, yaw=-90.015808, roll=0.000000))\n",
      "Transform(Location(x=-191.555450, y=57.061321, z=0.600000), Rotation(pitch=0.000000, yaw=89.984192, roll=0.000000))\n",
      "Transform(Location(x=28.240623, y=-30.186789, z=0.300000), Rotation(pitch=0.000000, yaw=91.532082, roll=0.000000))\n",
      "Transform(Location(x=-195.055878, y=55.261250, z=0.600000), Rotation(pitch=0.000000, yaw=89.984192, roll=0.000000))\n",
      "Transform(Location(x=-54.195923, y=55.444775, z=0.600000), Rotation(pitch=0.000000, yaw=90.379280, roll=0.000000))\n",
      "Transform(Location(x=-50.685390, y=53.867962, z=0.600000), Rotation(pitch=0.000000, yaw=90.379280, roll=0.000000))\n",
      "Transform(Location(x=-47.196072, y=55.491123, z=0.600000), Rotation(pitch=0.000000, yaw=-89.620728, roll=0.000000))\n",
      "Transform(Location(x=-43.685539, y=53.914310, z=0.600000), Rotation(pitch=0.000000, yaw=-89.620728, roll=0.000000))\n",
      "Transform(Location(x=28.046694, y=163.645676, z=0.300000), Rotation(pitch=0.000000, yaw=90.022896, roll=0.000000))\n",
      "Transform(Location(x=24.547365, y=161.944290, z=0.300000), Rotation(pitch=0.000000, yaw=90.022896, roll=0.000000))\n",
      "Transform(Location(x=35.063633, y=121.195282, z=0.300000), Rotation(pitch=0.000000, yaw=-89.977112, roll=0.000000))\n",
      "Transform(Location(x=58.182587, y=187.856827, z=0.300000), Rotation(pitch=0.000000, yaw=-179.719513, roll=0.000000))\n",
      "Transform(Location(x=58.146431, y=194.856735, z=0.300000), Rotation(pitch=0.000000, yaw=-179.712158, roll=0.000000))\n",
      "Transform(Location(x=-47.600029, y=-22.850307, z=0.450000), Rotation(pitch=0.000000, yaw=-90.337494, roll=0.000000))\n",
      "Transform(Location(x=55.864006, y=191.345093, z=0.300000), Rotation(pitch=0.000000, yaw=-179.712158, roll=0.000000))\n",
      "Transform(Location(x=-17.602392, y=2.592170, z=0.300000), Rotation(pitch=0.000000, yaw=-0.139465, roll=0.000000))\n",
      "Transform(Location(x=-19.093874, y=6.095813, z=0.300000), Rotation(pitch=0.000000, yaw=-0.139465, roll=0.000000))\n",
      "Transform(Location(x=-131.776047, y=-60.014008, z=0.300000), Rotation(pitch=0.000000, yaw=90.393547, roll=0.000000))\n",
      "Transform(Location(x=-128.284348, y=-58.789974, z=0.300000), Rotation(pitch=0.000000, yaw=90.393547, roll=0.000000))\n",
      "Transform(Location(x=-124.777138, y=-59.830914, z=0.300000), Rotation(pitch=0.000000, yaw=-89.606445, roll=0.000000))\n",
      "Transform(Location(x=-121.285439, y=-58.606880, z=0.300000), Rotation(pitch=0.000000, yaw=-89.606445, roll=0.000000))\n",
      "Transform(Location(x=-158.209869, y=2.934412, z=0.300000), Rotation(pitch=0.000000, yaw=-0.139465, roll=0.000000))\n",
      "Transform(Location(x=-159.701355, y=6.438059, z=0.300000), Rotation(pitch=0.000000, yaw=-0.139465, roll=0.000000))\n",
      "Transform(Location(x=-158.202316, y=-4.065611, z=0.300000), Rotation(pitch=0.000000, yaw=179.860489, roll=0.000000))\n",
      "Transform(Location(x=-44.091824, y=-21.470951, z=0.450000), Rotation(pitch=0.000000, yaw=-90.337494, roll=0.000000))\n",
      "Transform(Location(x=-159.693802, y=-0.561970, z=0.300000), Rotation(pitch=0.000000, yaw=179.860489, roll=0.000000))\n",
      "Transform(Location(x=-220.048904, y=-3.915073, z=0.300000), Rotation(pitch=0.000000, yaw=179.860489, roll=0.000000))\n",
      "Transform(Location(x=-217.640381, y=-0.420926, z=0.300000), Rotation(pitch=0.000000, yaw=179.860489, roll=0.000000))\n",
      "Transform(Location(x=-82.611153, y=-4.249602, z=0.300000), Rotation(pitch=0.000000, yaw=179.860489, roll=0.000000))\n",
      "Transform(Location(x=-81.402634, y=-0.752534, z=0.300000), Rotation(pitch=0.000000, yaw=179.860489, roll=0.000000))\n",
      "Transform(Location(x=-82.602486, y=2.750381, z=0.300000), Rotation(pitch=0.000000, yaw=-0.139465, roll=0.000000))\n",
      "Transform(Location(x=-81.393974, y=6.247448, z=0.300000), Rotation(pitch=0.000000, yaw=-0.139465, roll=0.000000))\n",
      "Transform(Location(x=-90.766502, y=94.962852, z=0.300000), Rotation(pitch=0.000000, yaw=0.065570, roll=0.000000))\n",
      "Transform(Location(x=-88.962502, y=91.464912, z=0.300000), Rotation(pitch=0.000000, yaw=0.065570, roll=0.000000))\n",
      "Transform(Location(x=-90.777313, y=87.962799, z=0.300000), Rotation(pitch=0.000000, yaw=-179.934418, roll=0.000000))\n",
      "Transform(Location(x=-54.059883, y=34.895241, z=0.600000), Rotation(pitch=0.000000, yaw=90.379280, roll=0.000000))\n",
      "Transform(Location(x=-88.973305, y=84.464859, z=0.300000), Rotation(pitch=0.000000, yaw=-179.934418, roll=0.000000))\n",
      "Transform(Location(x=-78.550858, y=-88.012390, z=0.300000), Rotation(pitch=0.000000, yaw=0.086306, roll=0.000000))\n",
      "Transform(Location(x=-80.056129, y=-84.514633, z=0.300000), Rotation(pitch=0.000000, yaw=0.086306, roll=0.000000))\n",
      "Transform(Location(x=-78.576599, y=-95.012421, z=0.300000), Rotation(pitch=0.000000, yaw=-179.913696, roll=0.000000))\n",
      "Transform(Location(x=-80.081871, y=-91.514656, z=0.300000), Rotation(pitch=0.000000, yaw=-179.913696, roll=0.000000))\n",
      "Transform(Location(x=27.368534, y=-128.487457, z=0.300000), Rotation(pitch=0.000000, yaw=91.532082, roll=0.000000))\n",
      "Transform(Location(x=30.915138, y=-130.183197, z=0.300000), Rotation(pitch=0.000000, yaw=91.532082, roll=0.000000))\n",
      "Transform(Location(x=27.042097, y=-116.281822, z=0.300000), Rotation(pitch=0.000000, yaw=91.532082, roll=0.000000))\n",
      "Transform(Location(x=30.588434, y=-117.967575, z=0.300000), Rotation(pitch=0.000000, yaw=91.532082, roll=0.000000))\n",
      "Transform(Location(x=34.041451, y=-116.164551, z=0.300000), Rotation(pitch=0.000000, yaw=-88.467949, roll=0.000000))\n",
      "Transform(Location(x=-50.549351, y=33.318447, z=0.600000), Rotation(pitch=0.000000, yaw=90.379280, roll=0.000000))\n",
      "Transform(Location(x=37.588329, y=-117.870308, z=0.300000), Rotation(pitch=0.000000, yaw=-88.467949, roll=0.000000))\n",
      "Transform(Location(x=34.371689, y=-128.510254, z=0.300000), Rotation(pitch=0.000000, yaw=-88.467949, roll=0.000000))\n",
      "Transform(Location(x=37.918297, y=-130.206009, z=0.300000), Rotation(pitch=0.000000, yaw=-88.467949, roll=0.000000))\n",
      "Transform(Location(x=0.562071, y=-4.457942, z=0.300000), Rotation(pitch=0.000000, yaw=179.860489, roll=0.000000))\n",
      "Transform(Location(x=-0.929380, y=-0.944301, z=0.300000), Rotation(pitch=0.000000, yaw=179.860489, roll=0.000000))\n",
      "Transform(Location(x=0.547553, y=2.547991, z=0.300000), Rotation(pitch=0.000000, yaw=-0.139465, roll=0.000000))\n",
      "Transform(Location(x=-0.943924, y=6.051632, z=0.300000), Rotation(pitch=0.000000, yaw=-0.139465, roll=0.000000))\n",
      "Transform(Location(x=-20.188446, y=-87.924217, z=0.300000), Rotation(pitch=0.000000, yaw=0.086306, roll=0.000000))\n",
      "Transform(Location(x=-18.793718, y=-84.422150, z=0.300000), Rotation(pitch=0.000000, yaw=0.086306, roll=0.000000))\n",
      "Transform(Location(x=-18.783285, y=-91.422050, z=0.300000), Rotation(pitch=0.000000, yaw=-179.913696, roll=0.000000))\n",
      "Transform(Location(x=-265.490265, y=19.596804, z=0.300000), Rotation(pitch=0.000000, yaw=-90.583771, roll=0.000000))\n",
      "Transform(Location(x=-20.178013, y=-94.924118, z=0.300000), Rotation(pitch=0.000000, yaw=-179.913696, roll=0.000000))\n",
      "Transform(Location(x=-0.358464, y=-87.894363, z=0.300000), Rotation(pitch=0.000000, yaw=0.086306, roll=0.000000))\n",
      "Transform(Location(x=1.036263, y=-84.392296, z=0.300000), Rotation(pitch=0.000000, yaw=0.086306, roll=0.000000))\n",
      "Transform(Location(x=1.046695, y=-91.392197, z=0.300000), Rotation(pitch=0.000000, yaw=-179.913696, roll=0.000000))\n",
      "Transform(Location(x=-0.348032, y=-94.894264, z=0.300000), Rotation(pitch=0.000000, yaw=-179.913696, roll=0.000000))\n",
      "Transform(Location(x=-159.061783, y=87.884689, z=0.300000), Rotation(pitch=0.000000, yaw=-179.934418, roll=0.000000))\n",
      "Transform(Location(x=-161.357559, y=84.382019, z=0.300000), Rotation(pitch=0.000000, yaw=-179.934418, roll=0.000000))\n",
      "Transform(Location(x=-159.076508, y=94.884697, z=0.300000), Rotation(pitch=0.000000, yaw=0.065570, roll=0.000000))\n",
      "Transform(Location(x=-161.372498, y=91.382019, z=0.300000), Rotation(pitch=0.000000, yaw=0.065570, roll=0.000000))\n",
      "Transform(Location(x=31.563000, y=122.793892, z=0.300000), Rotation(pitch=0.000000, yaw=-89.977112, roll=0.000000))\n",
      "Transform(Location(x=-268.977875, y=20.832405, z=0.300000), Rotation(pitch=0.000000, yaw=-90.583771, roll=0.000000))\n",
      "Transform(Location(x=-141.602158, y=-95.107094, z=0.300000), Rotation(pitch=0.000000, yaw=-179.913696, roll=0.000000))\n",
      "Transform(Location(x=-98.201149, y=-4.211654, z=0.300000), Rotation(pitch=0.000000, yaw=179.860489, roll=0.000000))\n",
      "Transform(Location(x=-96.992638, y=-0.714586, z=0.300000), Rotation(pitch=0.000000, yaw=179.860489, roll=0.000000))\n",
      "Transform(Location(x=-98.192490, y=2.788329, z=0.300000), Rotation(pitch=0.000000, yaw=-0.139465, roll=0.000000))\n",
      "Transform(Location(x=-96.983971, y=6.285394, z=0.300000), Rotation(pitch=0.000000, yaw=-0.139465, roll=0.000000))\n",
      "Transform(Location(x=31.704620, y=-28.793686, z=0.300000), Rotation(pitch=0.000000, yaw=-88.467949, roll=0.000000))\n",
      "Transform(Location(x=35.238125, y=-29.999630, z=0.300000), Rotation(pitch=0.000000, yaw=-88.467949, roll=0.000000))\n",
      "Transform(Location(x=24.599440, y=31.597897, z=0.300000), Rotation(pitch=0.000000, yaw=90.022896, roll=0.000000))\n",
      "Transform(Location(x=28.099997, y=30.199297, z=0.300000), Rotation(pitch=0.000000, yaw=90.022896, roll=0.000000))\n",
      "Transform(Location(x=35.099331, y=30.202099, z=0.300000), Rotation(pitch=0.000000, yaw=-89.977112, roll=0.000000))\n",
      "Transform(Location(x=31.599440, y=31.600700, z=0.300000), Rotation(pitch=0.000000, yaw=-89.977112, roll=0.000000))\n",
      "Transform(Location(x=-131.910217, y=-40.474476, z=0.300000), Rotation(pitch=0.000000, yaw=90.393547, roll=0.000000))\n",
      "Transform(Location(x=-128.395874, y=-42.550396, z=0.300000), Rotation(pitch=0.000000, yaw=90.393547, roll=0.000000))\n",
      "Transform(Location(x=-164.731964, y=-88.141899, z=0.300000), Rotation(pitch=0.000000, yaw=0.086304, roll=0.000000))\n",
      "Transform(Location(x=-162.537247, y=-84.638641, z=0.300000), Rotation(pitch=0.000000, yaw=0.086304, roll=0.000000))\n",
      "Transform(Location(x=-143.807434, y=-91.610367, z=0.300000), Rotation(pitch=0.000000, yaw=-179.913696, roll=0.000000))\n",
      "Transform(Location(x=-95.266602, y=-95.037498, z=0.300000), Rotation(pitch=0.000000, yaw=-179.913696, roll=0.000000))\n",
      "Transform(Location(x=-96.771873, y=-91.539734, z=0.300000), Rotation(pitch=0.000000, yaw=-179.913696, roll=0.000000))\n",
      "Transform(Location(x=24.707123, y=-51.034554, z=0.300000), Rotation(pitch=0.000000, yaw=91.532082, roll=0.000000))\n",
      "Transform(Location(x=28.240623, y=-52.240532, z=0.300000), Rotation(pitch=0.000000, yaw=91.532082, roll=0.000000))\n",
      "Transform(Location(x=69.341606, y=-207.747025, z=0.300000), Rotation(pitch=0.000000, yaw=179.757080, roll=0.000000))\n",
      "Transform(Location(x=71.056442, y=-204.254333, z=0.300000), Rotation(pitch=0.000000, yaw=179.757080, roll=0.000000))\n",
      "Transform(Location(x=69.371284, y=-200.747086, z=0.300000), Rotation(pitch=0.000000, yaw=179.757080, roll=0.000000))\n",
      "Transform(Location(x=196.740326, y=-11.108692, z=0.300000), Rotation(pitch=0.000000, yaw=89.330902, roll=0.000000))\n",
      "Transform(Location(x=193.271866, y=-13.767634, z=0.300000), Rotation(pitch=0.000000, yaw=89.330902, roll=0.000000))\n",
      "Transform(Location(x=189.740814, y=-11.026948, z=0.300000), Rotation(pitch=0.000000, yaw=89.330902, roll=0.000000))\n",
      "Transform(Location(x=-132.024277, y=-23.866114, z=0.300000), Rotation(pitch=0.000000, yaw=90.393547, roll=0.000000))\n",
      "Transform(Location(x=69.400948, y=-193.747147, z=0.300000), Rotation(pitch=0.000000, yaw=-0.242950, roll=0.000000))\n",
      "Transform(Location(x=70.615784, y=-190.252274, z=0.300000), Rotation(pitch=0.000000, yaw=-0.242950, roll=0.000000))\n",
      "Transform(Location(x=69.430626, y=-186.747208, z=0.300000), Rotation(pitch=0.000000, yaw=-0.242950, roll=0.000000))\n",
      "Transform(Location(x=7.056836, y=-207.482941, z=0.300000), Rotation(pitch=0.767256, yaw=179.757080, roll=-0.000000))\n",
      "Transform(Location(x=8.571527, y=-203.989410, z=0.679914), Rotation(pitch=0.767256, yaw=179.757080, roll=-0.000000))\n",
      "Transform(Location(x=7.086513, y=-200.483002, z=0.300000), Rotation(pitch=0.767256, yaw=179.757080, roll=-0.000000))\n",
      "Transform(Location(x=7.118868, y=-193.483078, z=0.499982), Rotation(pitch=-0.767242, yaw=-0.242950, roll=-0.000000))\n",
      "Transform(Location(x=8.533569, y=-189.989075, z=0.481235), Rotation(pitch=-0.767242, yaw=-0.242950, roll=-0.000000))\n",
      "Transform(Location(x=7.148545, y=-186.483154, z=0.499982), Rotation(pitch=-0.767242, yaw=-0.242950, roll=-0.000000))\n",
      "Transform(Location(x=211.039368, y=13.862580, z=0.300000), Rotation(pitch=0.000000, yaw=-89.335358, roll=0.000000))\n",
      "Transform(Location(x=-128.509949, y=-25.942020, z=0.300000), Rotation(pitch=0.000000, yaw=90.393547, roll=0.000000))\n",
      "Transform(Location(x=207.570908, y=11.122168, z=0.300000), Rotation(pitch=0.000000, yaw=-89.335358, roll=0.000000))\n",
      "Transform(Location(x=204.039856, y=13.781383, z=0.300000), Rotation(pitch=0.000000, yaw=-89.335358, roll=0.000000))\n",
      "Transform(Location(x=-47.060032, y=34.941586, z=0.600000), Rotation(pitch=0.000000, yaw=-89.620728, roll=0.000000))\n",
      "Transform(Location(x=-43.549500, y=33.364796, z=0.600000), Rotation(pitch=0.000000, yaw=-89.620728, roll=0.000000))\n",
      "Transform(Location(x=-54.599911, y=-22.810482, z=0.450000), Rotation(pitch=0.000000, yaw=89.662514, roll=0.000000))\n",
      "Transform(Location(x=-51.091713, y=-21.431129, z=0.450000), Rotation(pitch=0.000000, yaw=89.662514, roll=0.000000))\n",
      "Transform(Location(x=-125.024437, y=-23.818031, z=0.300000), Rotation(pitch=0.000000, yaw=-89.606445, roll=0.000000))\n",
      "Transform(Location(x=-121.510117, y=-25.893940, z=0.300000), Rotation(pitch=0.000000, yaw=-89.606445, roll=0.000000))\n",
      "Transform(Location(x=-131.456757, y=28.986689, z=0.300000), Rotation(pitch=0.000000, yaw=89.488602, roll=0.000000))\n",
      "Transform(Location(x=-127.979927, y=27.355612, z=0.300000), Rotation(pitch=0.000000, yaw=89.488602, roll=0.000000))\n",
      "Transform(Location(x=-275.629852, y=-21.208490, z=0.300000), Rotation(pitch=0.000000, yaw=90.416794, roll=0.000000))\n",
      "Transform(Location(x=-120.980202, y=27.293139, z=0.300000), Rotation(pitch=0.000000, yaw=-90.511383, roll=0.000000))\n",
      "Transform(Location(x=-124.457039, y=28.924217, z=0.300000), Rotation(pitch=0.000000, yaw=-90.511383, roll=0.000000))\n",
      "Transform(Location(x=-124.484413, y=-102.440918, z=0.300000), Rotation(pitch=0.000000, yaw=-89.606445, roll=0.000000))\n",
      "Transform(Location(x=-120.974228, y=-103.916870, z=0.300000), Rotation(pitch=0.000000, yaw=-89.606445, roll=0.000000))\n",
      "Transform(Location(x=-131.659943, y=-76.911201, z=0.300000), Rotation(pitch=0.000000, yaw=90.393547, roll=0.000000))\n",
      "Transform(Location(x=-128.172348, y=-75.087189, z=0.300000), Rotation(pitch=0.000000, yaw=90.393547, roll=0.000000))\n",
      "Transform(Location(x=-51.016006, y=103.801895, z=0.500000), Rotation(pitch=0.000000, yaw=90.379280, roll=0.000000))\n",
      "Transform(Location(x=-36.262196, y=95.025192, z=0.300000), Rotation(pitch=0.000000, yaw=0.065570, roll=0.000000))\n",
      "Transform(Location(x=-54.505970, y=102.278320, z=0.500000), Rotation(pitch=0.000000, yaw=90.379280, roll=0.000000))\n",
      "Transform(Location(x=-63.547314, y=87.993980, z=0.300000), Rotation(pitch=0.000000, yaw=-179.934418, roll=0.000000))\n",
      "Transform(Location(x=-272.116180, y=-23.082985, z=0.300000), Rotation(pitch=0.000000, yaw=90.416794, roll=0.000000))\n",
      "Transform(Location(x=-43.836941, y=76.780815, z=0.600000), Rotation(pitch=0.000000, yaw=-89.620689, roll=0.000000))\n",
      "Transform(Location(x=-47.326923, y=75.257660, z=0.600000), Rotation(pitch=0.000000, yaw=-89.620689, roll=0.000000))\n",
      "Transform(Location(x=-35.058193, y=91.526581, z=0.300000), Rotation(pitch=0.000000, yaw=0.065552, roll=0.000000))\n",
      "Transform(Location(x=-64.943306, y=84.492355, z=0.300000), Rotation(pitch=0.000000, yaw=-179.934418, roll=0.000000))\n",
      "Transform(Location(x=155.015381, y=-5.701526, z=0.600000), Rotation(pitch=0.000000, yaw=-90.052582, roll=0.000000))\n",
      "Transform(Location(x=143.922195, y=-1.962325, z=0.500000), Rotation(pitch=0.000000, yaw=-179.744965, roll=0.000000))\n",
      "Transform(Location(x=151.525497, y=5.319232, z=0.600000), Rotation(pitch=0.000000, yaw=89.947411, roll=0.000000))\n",
      "Transform(Location(x=-120.745628, y=53.579826, z=0.300000), Rotation(pitch=0.000000, yaw=-90.511383, roll=0.000000))\n",
      "Transform(Location(x=-124.229408, y=55.410995, z=0.300000), Rotation(pitch=0.000000, yaw=-90.511383, roll=0.000000))\n",
      "Transform(Location(x=-124.911293, y=-40.291382, z=0.300000), Rotation(pitch=0.000000, yaw=-89.606445, roll=0.000000))\n",
      "Transform(Location(x=-268.630066, y=-21.157270, z=0.300000), Rotation(pitch=0.000000, yaw=-89.583183, roll=0.000000))\n",
      "Transform(Location(x=-121.396957, y=-42.367298, z=0.300000), Rotation(pitch=0.000000, yaw=-89.606445, roll=0.000000))\n",
      "Transform(Location(x=31.704620, y=-50.847397, z=0.300000), Rotation(pitch=0.000000, yaw=-88.467949, roll=0.000000))\n",
      "Transform(Location(x=35.238125, y=-52.053371, z=0.300000), Rotation(pitch=0.000000, yaw=-88.467949, roll=0.000000))\n",
      "Transform(Location(x=35.099331, y=54.589581, z=0.300000), Rotation(pitch=0.000000, yaw=-89.977112, roll=0.000000))\n",
      "Transform(Location(x=31.599440, y=55.988182, z=0.300000), Rotation(pitch=0.000000, yaw=-89.977112, roll=0.000000))\n",
      "Transform(Location(x=-9.640591, y=87.992393, z=0.300000), Rotation(pitch=0.000000, yaw=-179.934418, roll=0.000000))\n",
      "Transform(Location(x=-8.236587, y=84.493980, z=0.300000), Rotation(pitch=0.000000, yaw=-179.934418, roll=0.000000))\n",
      "Transform(Location(x=-120.149292, y=120.387146, z=0.300000), Rotation(pitch=0.000000, yaw=-90.511383, roll=0.000000))\n",
      "Transform(Location(x=-123.665184, y=118.618423, z=0.300000), Rotation(pitch=0.000000, yaw=-90.511383, roll=0.000000))\n",
      "Transform(Location(x=-47.711586, y=-41.689964, z=0.450000), Rotation(pitch=0.000000, yaw=-90.337494, roll=0.000000))\n",
      "Transform(Location(x=-265.116394, y=-23.031763, z=0.300000), Rotation(pitch=0.000000, yaw=-89.583183, roll=0.000000))\n",
      "Transform(Location(x=-110.700020, y=-88.060577, z=0.300000), Rotation(pitch=0.000000, yaw=0.086304, roll=0.000000))\n"
     ]
    }
   ],
   "source": [
    "for x in spawn_points:\n",
    "    print(x)"
   ]
  },
  {
   "cell_type": "code",
   "execution_count": null,
   "metadata": {},
   "outputs": [],
   "source": []
  },
  {
   "cell_type": "code",
   "execution_count": 11,
   "metadata": {},
   "outputs": [],
   "source": [
    "# ADD RANDOM VEHICLES ON THE MAP.\n",
    "\n",
    "# Get the blueprint library and filter for the vehicle blueprints\n",
    "vehicle_blueprints = world.get_blueprint_library().filter('*vehicle*')\n",
    "\n",
    "# Get the map's spawn points\n",
    "spawn_points = world.get_map().get_spawn_points()\n",
    "\n",
    "# Spawn 50 vehicles randomly distributed throughout the map \n",
    "# for each spawn point, we choose a random vehicle from the blueprint library\n",
    "for i in range(0,50):\n",
    "    world.try_spawn_actor(random.choice(vehicle_blueprints), random.choice(spawn_points))"
   ]
  },
  {
   "cell_type": "code",
   "execution_count": null,
   "metadata": {},
   "outputs": [],
   "source": []
  },
  {
   "cell_type": "code",
   "execution_count": null,
   "metadata": {},
   "outputs": [],
   "source": []
  },
  {
   "cell_type": "code",
   "execution_count": 2,
   "metadata": {},
   "outputs": [],
   "source": [
    "# --------------\n",
    "# Spawn ego vehicle\n",
    "# --------------\n",
    "\n",
    "# Get the blueprint library and filter for the vehicle blueprints\n",
    "vehicle_blueprints = world.get_blueprint_library().filter('*vehicle*')\n",
    "\n",
    "# Get the map's spawn points\n",
    "spawn_points = world.get_map().get_spawn_points()\n",
    "\n",
    "ego_location = carla.Transform(carla.Location(x=-131.6, y=-70.5, z=0.500000), \n",
    "                               carla.Rotation(pitch=0.000000, yaw=90, roll=0.000000))\n",
    "\n",
    "ego_vehicle = world.spawn_actor(vehicle_blueprints.filter('model3')[0], ego_location)\n",
    "\n",
    "# ego_bp = world.get_blueprint_library().find('vehicle.tesla.model3')\n",
    "# ego_bp.set_attribute('role_name','ego')\n",
    "# print('\\nEgo role_name is set')\n",
    "# ego_color = random.choice(ego_bp.get_attribute('color').recommended_values)\n",
    "# ego_bp.set_attribute('color',ego_color)\n",
    "# print('\\nEgo color is set')\n",
    "\n",
    "# spawn_points = world.get_map().get_spawn_points()\n",
    "# number_of_spawn_points = len(spawn_points)\n",
    "\n",
    "# if 0 < number_of_spawn_points:\n",
    "#     random.shuffle(spawn_points)\n",
    "#     ego_transform = spawn_points[0]\n",
    "#     ego_vehicle = world.spawn_actor(ego_bp,ego_transform)\n",
    "#     print('\\nEgo is spawned')\n",
    "# else: \n",
    "#     logging.warning('Could not found any spawn points')"
   ]
  },
  {
   "cell_type": "code",
   "execution_count": 3,
   "metadata": {},
   "outputs": [],
   "source": [
    "# --------------\n",
    "# Spawn attached RGB camera\n",
    "# --------------\n",
    "cam_bp = None\n",
    "cam_bp = world.get_blueprint_library().find('sensor.camera.rgb')\n",
    "cam_bp.set_attribute(\"image_size_x\",str(1920))\n",
    "cam_bp.set_attribute(\"image_size_y\",str(1080))\n",
    "cam_bp.set_attribute(\"fov\",str(105))\n",
    "cam_location = carla.Location(2,0,1)\n",
    "cam_rotation = carla.Rotation(0,180,0)\n",
    "cam_transform = carla.Transform(cam_location,cam_rotation)\n",
    "ego_cam = world.spawn_actor(cam_bp,cam_transform,attach_to=ego_vehicle, attachment_type=carla.AttachmentType.Rigid)\n",
    "ego_cam.listen(lambda image: image.save_to_disk('tutorial/output/%.6d.jpg' % image.frame))"
   ]
  },
  {
   "cell_type": "code",
   "execution_count": 82,
   "metadata": {},
   "outputs": [],
   "source": [
    "# # --------------\n",
    "# # Spectator on ego cam position\n",
    "# # --------------\n",
    "\n",
    "# spectator = world.get_spectator()\n",
    "# transform = ego_cam.get_transform()\n",
    "# spectator.set_transform(carla.Transform(transform.location + carla.Location(z=0.5),\n",
    "# carla.Rotation(yaw=90)))\n"
   ]
  },
  {
   "cell_type": "code",
   "execution_count": 3,
   "metadata": {},
   "outputs": [],
   "source": [
    "# --------------\n",
    "# Spectator on vehicle view\n",
    "# --------------\n",
    "\n",
    "spectator = world.get_spectator()\n",
    "transform = ego_vehicle.get_transform()\n",
    "spectator.set_transform(carla.Transform(transform.location + carla.Location(y=-5,z=2.5),\n",
    "carla.Rotation(yaw=90)))"
   ]
  },
  {
   "cell_type": "code",
   "execution_count": null,
   "metadata": {},
   "outputs": [],
   "source": []
  },
  {
   "cell_type": "code",
   "execution_count": 4,
   "metadata": {},
   "outputs": [],
   "source": [
    "## creating parking vehicles\n",
    "\n",
    "position = carla.Transform(ego_vehicle.get_transform().location + carla.Location(-3.5,20,0.5), \n",
    "                           carla.Rotation(0,90,0))\n",
    "parked_vehicle = world.spawn_actor(random.choice(vehicle_blueprints), position)"
   ]
  },
  {
   "cell_type": "code",
   "execution_count": 5,
   "metadata": {},
   "outputs": [],
   "source": [
    "# --------------\n",
    "# Spawn pedestrian\n",
    "# --------------\n",
    "\n",
    "walkers_blueprints = world.get_blueprint_library().filter('*walker*')\n",
    "walker_loc = carla.Transform(parked_vehicle.get_transform().location + carla.Location(-3.5,3,0.5), \n",
    "                           carla.Rotation(0,90,0))\n",
    "walker = world.spawn_actor(random.choice(walkers_blueprints), walker_loc)"
   ]
  },
  {
   "cell_type": "code",
   "execution_count": 6,
   "metadata": {},
   "outputs": [],
   "source": [
    "controller_walker = world.get_blueprint_library().find('controller.ai.walker')\n"
   ]
  },
  {
   "cell_type": "code",
   "execution_count": 9,
   "metadata": {},
   "outputs": [],
   "source": [
    "x = world.spawn_actor(controller_walker, walker_loc, attach_to=walker)"
   ]
  },
  {
   "cell_type": "code",
   "execution_count": 12,
   "metadata": {},
   "outputs": [
    {
     "data": {
      "text/plain": [
       "<carla.libcarla.WorldSnapshot at 0x1e18862f2d0>"
      ]
     },
     "execution_count": 12,
     "metadata": {},
     "output_type": "execute_result"
    }
   ],
   "source": [
    "world.wait_for_tick()"
   ]
  },
  {
   "cell_type": "code",
   "execution_count": 10,
   "metadata": {},
   "outputs": [],
   "source": [
    "x.start()"
   ]
  },
  {
   "cell_type": "code",
   "execution_count": 11,
   "metadata": {},
   "outputs": [],
   "source": [
    "x.set_max_speed(1)"
   ]
  },
  {
   "cell_type": "code",
   "execution_count": 13,
   "metadata": {},
   "outputs": [
    {
     "ename": "",
     "evalue": "",
     "output_type": "error",
     "traceback": [
      "\u001b[1;31mThe Kernel crashed while executing code in the the current cell or a previous cell. Please review the code in the cell(s) to identify a possible cause of the failure. Click <a href='https://aka.ms/vscodeJupyterKernelCrash'>here</a> for more info. View Jupyter <a href='command:jupyter.viewOutput'>log</a> for further details."
     ]
    }
   ],
   "source": [
    "x.go_to_location(world.get_random_location_from_navigation())"
   ]
  },
  {
   "cell_type": "code",
   "execution_count": 9,
   "metadata": {},
   "outputs": [],
   "source": [
    "controller.start()"
   ]
  },
  {
   "cell_type": "code",
   "execution_count": 10,
   "metadata": {},
   "outputs": [
    {
     "ename": "",
     "evalue": "",
     "output_type": "error",
     "traceback": [
      "\u001b[1;31mThe Kernel crashed while executing code in the the current cell or a previous cell. Please review the code in the cell(s) to identify a possible cause of the failure. Click <a href='https://aka.ms/vscodeJupyterKernelCrash'>here</a> for more info. View Jupyter <a href='command:jupyter.viewOutput'>log</a> for further details."
     ]
    }
   ],
   "source": [
    "controller.go_to_location(carla.Location(5,10,2))"
   ]
  },
  {
   "cell_type": "code",
   "execution_count": null,
   "metadata": {},
   "outputs": [],
   "source": []
  },
  {
   "cell_type": "code",
   "execution_count": null,
   "metadata": {},
   "outputs": [],
   "source": []
  },
  {
   "cell_type": "code",
   "execution_count": 130,
   "metadata": {},
   "outputs": [],
   "source": [
    "#ego_vehicle.set_autopilot(True)\n",
    "ego_vehicle.enable_constant_velocity(carla.Vector3D(5,0,0))\n",
    "#ego_vehicle.apply_control(carla.VehicleControl(throttle=1.0, steer=0.0))"
   ]
  },
  {
   "cell_type": "code",
   "execution_count": 16,
   "metadata": {},
   "outputs": [],
   "source": [
    "walker.apply_control(carla.WalkerControl(carla.Vector3D(5.0, 3.0, 0.0), speed=0.5))"
   ]
  },
  {
   "cell_type": "code",
   "execution_count": null,
   "metadata": {},
   "outputs": [],
   "source": []
  },
  {
   "cell_type": "code",
   "execution_count": 17,
   "metadata": {},
   "outputs": [
    {
     "data": {
      "text/plain": [
       "True"
      ]
     },
     "execution_count": 17,
     "metadata": {},
     "output_type": "execute_result"
    }
   ],
   "source": [
    "## DESTROYING ACTORS vehicles\n",
    "for actor in world.get_actors().filter('*vehicle*'):\n",
    "    actor.destroy()\n",
    "\n",
    "    \n",
    "ego_cam.destroy()\n",
    "walker.destroy()"
   ]
  },
  {
   "cell_type": "code",
   "execution_count": 46,
   "metadata": {},
   "outputs": [
    {
     "name": "stdout",
     "output_type": "stream",
     "text": [
      "[Actor(id=1, type=spectator), Actor(id=2, type=traffic.stop), Actor(id=3, type=traffic.stop), Actor(id=4, type=traffic.stop), Actor(id=5, type=traffic.stop), Actor(id=6, type=traffic.stop), Actor(id=7, type=traffic.unknown), Actor(id=8, type=traffic.unknown), Actor(id=9, type=traffic.unknown), Actor(id=10, type=traffic.unknown), Actor(id=11, type=traffic.unknown), Actor(id=12, type=traffic.unknown), Actor(id=13, type=traffic.stop), Actor(id=14, type=traffic.stop), Actor(id=15, type=traffic.stop), Actor(id=16, type=traffic.stop), Actor(id=17, type=traffic.stop), Actor(id=18, type=traffic.stop), Actor(id=19, type=traffic.stop), Actor(id=20, type=traffic.stop), Actor(id=21, type=traffic.stop), Actor(id=22, type=traffic.stop), Actor(id=23, type=traffic.stop), Actor(id=24, type=traffic.stop), Actor(id=25, type=traffic.stop), Actor(id=26, type=traffic.stop), Actor(id=27, type=traffic.stop), Actor(id=28, type=traffic.stop), Actor(id=29, type=traffic.stop), Actor(id=30, type=traffic.stop), Actor(id=31, type=traffic.stop), Actor(id=32, type=traffic.stop), Actor(id=33, type=traffic.stop), Actor(id=34, type=traffic.stop), Actor(id=35, type=traffic.stop), Actor(id=36, type=traffic.stop), Actor(id=37, type=traffic.stop), Actor(id=38, type=traffic.stop), Actor(id=39, type=traffic.stop), Actor(id=40, type=traffic.stop), Actor(id=41, type=traffic.speed_limit.40), Actor(id=42, type=traffic.speed_limit.40), Actor(id=43, type=traffic.speed_limit.90), Actor(id=44, type=traffic.speed_limit.90), Actor(id=45, type=traffic.speed_limit.90), Actor(id=46, type=traffic.speed_limit.90), Actor(id=47, type=traffic.speed_limit.90), Actor(id=48, type=traffic.speed_limit.90), Actor(id=49, type=traffic.speed_limit.60), Actor(id=50, type=traffic.speed_limit.60), Actor(id=51, type=traffic.speed_limit.30), Actor(id=52, type=traffic.speed_limit.30), Actor(id=53, type=traffic.speed_limit.30), Actor(id=54, type=traffic.speed_limit.30), Actor(id=55, type=traffic.speed_limit.30), Actor(id=56, type=traffic.speed_limit.30), Actor(id=57, type=traffic.speed_limit.30), Actor(id=58, type=traffic.speed_limit.30), Actor(id=59, type=traffic.speed_limit.60), Actor(id=60, type=traffic.speed_limit.60), Actor(id=61, type=traffic.traffic_light), Actor(id=62, type=traffic.traffic_light), Actor(id=63, type=traffic.traffic_light), Actor(id=64, type=traffic.traffic_light), Actor(id=65, type=traffic.traffic_light), Actor(id=66, type=traffic.traffic_light), Actor(id=67, type=traffic.traffic_light), Actor(id=68, type=traffic.traffic_light), Actor(id=69, type=traffic.traffic_light), Actor(id=70, type=traffic.traffic_light), Actor(id=71, type=traffic.traffic_light), Actor(id=72, type=traffic.traffic_light), Actor(id=73, type=traffic.traffic_light), Actor(id=74, type=traffic.traffic_light), Actor(id=75, type=traffic.traffic_light), Actor(id=76, type=traffic.traffic_light), Actor(id=77, type=traffic.traffic_light), Actor(id=78, type=traffic.traffic_light), Actor(id=79, type=traffic.traffic_light), Actor(id=80, type=traffic.traffic_light), Actor(id=81, type=traffic.traffic_light), Actor(id=82, type=traffic.traffic_light), Actor(id=83, type=traffic.traffic_light), Actor(id=84, type=traffic.traffic_light), Actor(id=85, type=traffic.traffic_light), Actor(id=86, type=traffic.traffic_light), Actor(id=87, type=traffic.traffic_light), Actor(id=88, type=traffic.traffic_light), Actor(id=89, type=traffic.traffic_light), Actor(id=90, type=traffic.traffic_light), Actor(id=91, type=traffic.traffic_light), Actor(id=92, type=traffic.traffic_light), Actor(id=93, type=traffic.traffic_light), Actor(id=94, type=traffic.traffic_light), Actor(id=95, type=traffic.traffic_light), Actor(id=96, type=traffic.traffic_light), Actor(id=97, type=traffic.traffic_light), Actor(id=98, type=traffic.traffic_light), Actor(id=99, type=traffic.traffic_light), Actor(id=100, type=traffic.traffic_light), Actor(id=101, type=traffic.traffic_light), Actor(id=102, type=traffic.traffic_light), Actor(id=103, type=traffic.traffic_light), Actor(id=104, type=traffic.traffic_light), Actor(id=105, type=traffic.traffic_light), Actor(id=106, type=traffic.traffic_light), Actor(id=107, type=traffic.traffic_light), Actor(id=108, type=traffic.traffic_light), Actor(id=109, type=traffic.traffic_light), Actor(id=110, type=traffic.traffic_light), Actor(id=111, type=traffic.traffic_light), Actor(id=112, type=traffic.traffic_light), Actor(id=113, type=traffic.traffic_light), Actor(id=114, type=traffic.traffic_light), Actor(id=115, type=vehicle.dodge.charger_police), Actor(id=116, type=sensor.camera.rgb), Actor(id=117, type=vehicle.dodge.charger_police), Actor(id=118, type=sensor.camera.rgb)]\n"
     ]
    }
   ],
   "source": [
    "print(world.get_actors())"
   ]
  }
 ],
 "metadata": {
  "kernelspec": {
   "display_name": "base",
   "language": "python",
   "name": "python3"
  },
  "language_info": {
   "codemirror_mode": {
    "name": "ipython",
    "version": 3
   },
   "file_extension": ".py",
   "mimetype": "text/x-python",
   "name": "python",
   "nbconvert_exporter": "python",
   "pygments_lexer": "ipython3",
   "version": "3.7.13"
  },
  "orig_nbformat": 4
 },
 "nbformat": 4,
 "nbformat_minor": 2
}
